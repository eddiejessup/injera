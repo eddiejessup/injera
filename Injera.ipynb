{
 "metadata": {
  "name": "",
  "signature": "sha256:d6bf72936359309a73b1e0ac613ec15323d4780346f6c98f2b261a4d8ef442d6"
 },
 "nbformat": 3,
 "nbformat_minor": 0,
 "worksheets": [
  {
   "cells": [
    {
     "cell_type": "code",
     "collapsed": false,
     "input": [],
     "language": "python",
     "metadata": {},
     "outputs": []
    }
   ],
   "metadata": {}
  }
 ]
}